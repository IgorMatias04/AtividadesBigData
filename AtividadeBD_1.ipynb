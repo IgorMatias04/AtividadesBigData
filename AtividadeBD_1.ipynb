{
  "nbformat": 4,
  "nbformat_minor": 0,
  "metadata": {
    "colab": {
      "provenance": [],
      "authorship_tag": "ABX9TyM86laqyiJtBybO1b1RIB5R",
      "include_colab_link": true
    },
    "kernelspec": {
      "name": "python3",
      "display_name": "Python 3"
    },
    "language_info": {
      "name": "python"
    }
  },
  "cells": [
    {
      "cell_type": "markdown",
      "metadata": {
        "id": "view-in-github",
        "colab_type": "text"
      },
      "source": [
        "<a href=\"https://colab.research.google.com/github/IgorMatias04/AtividadesBigData/blob/main/AtividadeBD_1.ipynb\" target=\"_parent\"><img src=\"https://colab.research.google.com/assets/colab-badge.svg\" alt=\"Open In Colab\"/></a>"
      ]
    },
    {
      "cell_type": "code",
      "source": [
        "def cria():\n",
        "  d = {}\n",
        "  return d\n",
        "\n",
        "def inclui(d):\n",
        "  nome = input(\"Digite o nome a incluir: \")\n",
        "  if nome in d:\n",
        "      print(\"Nome já existe e não pode ser incluído\")\n",
        "  else: fone = input(\"Digite o fone: \")\n",
        "d[nome] = fone\n",
        "\n",
        "def consulta(d):\n",
        "  nome = input(\"Digite o nome a consultar: \")\n",
        "  print(\"Telefone: \" ,d.get(nome,'Não disponível'))\n",
        "  \n",
        "def altera(d):\n",
        "  nome = input(\"Digite o nome o fone a alterar: \")\n",
        "  print(\"Telefone atual: \", d.get(nome, 'Não disponível'))\n",
        "  if nome in d:\n",
        "    fone = input(\"Digite o novo fone: \")\n",
        "    d[nome]=fone\n",
        "    print(\"Telefone alterado!\")\n",
        "  else:\n",
        "    print(\"Telefone não pode ser alterado!\")\n",
        "\n",
        "def exclui(d):\n",
        "  nome = input(\"Digite o nome a exluir: \")\n",
        "  if nome in d:\n",
        "    del d[nome]\n",
        "    print(\"Nome e fone excluídos! \")\n",
        "  else:\n",
        "    print(\"Nome inexistente!\")\n",
        "\n",
        "def mostra(d):\n",
        "  print(\"Agenda: \")\n",
        "  for nome  in d.keys():\n",
        "    print(nome,d[nome])\n",
        "\n",
        "agenda = cria()\n",
        "inclui(agenda)\n",
        "inclui(agenda)\n",
        "inclui(agenda)\n",
        "consulta(agenda)\n",
        "altera(agenda)\n",
        "exclui(agenda)\n",
        "mostra(agenda)"
      ],
      "metadata": {
        "id": "V_Yqy6Qbb8EL"
      },
      "execution_count": null,
      "outputs": []
    }
  ]
}